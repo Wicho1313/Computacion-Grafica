{
  "nbformat": 4,
  "nbformat_minor": 0,
  "metadata": {
    "colab": {
      "name": "python_algebra_lineal.ipynb",
      "provenance": [],
      "collapsed_sections": []
    },
    "kernelspec": {
      "name": "python3",
      "display_name": "Python 3"
    }
  },
  "cells": [
    {
      "cell_type": "markdown",
      "metadata": {
        "id": "LynrrO7GMHSS",
        "colab_type": "text"
      },
      "source": [
        ">## **Curso de Computación Gráfica**\n",
        ">**Universidad Central - Departamento de Ingeniería de Sistemas 2020**\n",
        "\n",
        "\n",
        "> Docente: Miguel Barrero\n",
        "\n",
        ">Álgebra Lineal\n",
        "\n",
        "> Estudiante 1: Rojas Alvarado Luis Enrique\n",
        "\n",
        "> Estudiante 2: \n",
        "\n",
        "\n",
        ">---\n",
        "\n",
        "\n",
        ">1. El espacio vectorial en dos dimensiones es el conjunto de todos los pares ordenados $<x, y>$ de números reales llamados vectores. \n",
        "Dado un vector $\\vec{PQ}$ que pertenece al espacio bidimensional y que tiene los puntos ${P(-3,5)}$ y ${Q(14,-9)}$ cree un vector $\\vec{u}$, que tenga la dirección cotraria dirección de $\\vec{PQ}$.\n"
      ]
    },
    {
      "cell_type": "code",
      "metadata": {
        "id": "2cIPcGUUkBqa",
        "colab_type": "code",
        "outputId": "776ca737-7fd5-44fc-c450-b14677a0b3c1",
        "colab": {
          "base_uri": "https://localhost:8080/",
          "height": 51
        }
      },
      "source": [
        "import numpy as np\n",
        "p=np.array([-3,5])\n",
        "q=np.array([14,-9])\n",
        "print(p,q)\n",
        "u=np.multiply(np.subtract(q,p),-1)\n",
        "print('El valor del vector u=',u)"
      ],
      "execution_count": 70,
      "outputs": [
        {
          "output_type": "stream",
          "text": [
            "(array([-3,  5]), array([14, -9]))\n",
            "('El valor del vector u=', array([-17,  14]))\n"
          ],
          "name": "stdout"
        }
      ]
    },
    {
      "cell_type": "markdown",
      "metadata": {
        "id": "jSlG7Xp3kYm6",
        "colab_type": "text"
      },
      "source": [
        "> 2. Escriba una función que permita crear un vector correspondiente para cualquier vector posición. Imprima el vector posición de entrada y el vector correspondiente. Use valores aleatorios para el punto de origen del vector correspondiente."
      ]
    },
    {
      "cell_type": "code",
      "metadata": {
        "id": "K1vK34ATlUJS",
        "colab_type": "code",
        "outputId": "10ee9d67-9e10-4960-e969-ca2daaab5a34",
        "colab": {
          "base_uri": "https://localhost:8080/",
          "height": 102
        }
      },
      "source": [
        "import numpy as np\n",
        "\n",
        "#Función que crea un vector correspondiente dado un vector posición\n",
        "#Recibe: un  punto.\n",
        "#Regresa: nada, imprime el vector correspondiente\n",
        "def creaVectroCorrespondiente(punto):\n",
        "  #Definimos el vector pos\n",
        "  vpos=[]\n",
        "  #disponemos un ciclo de 2 vueltas\n",
        "  for i in range(2):\n",
        "    valor=input(\"Ingrese el vector posición: \")\n",
        "    vpos.append(valor)\n",
        "    \n",
        "  #imprimimos la lista    \n",
        "  print('El vector posicion que ingreso: ',vpos)\n",
        "  print('El vector correspondiente es: ',np.add(vpos,punto))\n",
        "\n",
        "#####################################\n",
        "#Se crea un valor aleatorio para el punto de origen:\n",
        "x = np.random.randint(-100,100)\n",
        "y = np.random.randint(-100,100)\n",
        "punto=[x,y]\n",
        "print('El punto generado es P',punto)\n",
        "#Se llama a la función con el punto generado\n",
        "creaVectroCorrespondiente(punto)"
      ],
      "execution_count": 71,
      "outputs": [
        {
          "output_type": "stream",
          "text": [
            "('El punto generado es P', [-57, -28])\n",
            "Ingrese el vector posición: 5\n",
            "Ingrese el vector posición: 2\n",
            "('El vector posicion que ingreso: ', [5, 2])\n",
            "('El vector correspondiente es: ', array([-52, -26]))\n"
          ],
          "name": "stdout"
        }
      ]
    },
    {
      "cell_type": "markdown",
      "metadata": {
        "id": "DeBY09zimL75",
        "colab_type": "text"
      },
      "source": [
        ">3. Encuentre un vector unitario *u* para un vector $\\vec{pq}$ que parte de los puntos ${P(-3,5)}$ y ${Q(4,-9)}$. Imprima el vector resultante."
      ]
    },
    {
      "cell_type": "code",
      "metadata": {
        "id": "kaF0qiuxmyJ5",
        "colab_type": "code",
        "outputId": "cea3705a-cc05-4880-8b18-c500827675b8",
        "colab": {
          "base_uri": "https://localhost:8080/",
          "height": 34
        }
      },
      "source": [
        "import numpy as np\n",
        "#Se declaran los puntos P y Q.\n",
        "P=np.array([-3,5])\n",
        "Q=np.array([4,-9])\n",
        "#Se saca el vector posición\n",
        "VP=np.array(np.subtract(Q,P))\n",
        "#Se saca la magnitud del vector posición\n",
        "normalVP=np.sqrt(pow(VP[0],2)+pow(VP[1],2))\n",
        "#Formula del vector unitario (1/normalVP)*VP\n",
        "U=1/(normalVP)\n",
        "u=np.multiply(U,VP)\n",
        "#Se imprime el vector resultante\n",
        "print('El vector resultante es: ',u)"
      ],
      "execution_count": 72,
      "outputs": [
        {
          "output_type": "stream",
          "text": [
            "('El vector resultante es: ', array([ 0.4472136 , -0.89442719]))\n"
          ],
          "name": "stdout"
        }
      ]
    },
    {
      "cell_type": "markdown",
      "metadata": {
        "id": "B4KPqVgc-_hB",
        "colab_type": "text"
      },
      "source": [
        ">4. Grafique los puntos $P$ y $Q$ del punto 3, el vector correspondiente y el vector posición. Los puntos $P$ y $Q$ deben ser representados de diferente color."
      ]
    },
    {
      "cell_type": "code",
      "metadata": {
        "id": "nhI6MRXR_Nod",
        "colab_type": "code",
        "outputId": "d60dab46-964b-4bb2-a902-ac7320064b25",
        "colab": {
          "base_uri": "https://localhost:8080/",
          "height": 295
        }
      },
      "source": [
        "import matplotlib.pyplot as plt\n",
        "#graficar los puntos P y Q del punto anterior\n",
        "#plt.plot(P,Q)\n",
        "plt.scatter(P,Q,c='y')\n",
        "plt.text(P[0],P[1],'P',color='R')\n",
        "plt.text(Q[0],Q[1],'Q',color='R')\n",
        "#Graficando el Vector posición\n",
        "# El metodo quiver pinta vectores, pero para que salgan de las\n",
        "# dimensiones correctas hay que usar los parámetros angles, scale y scale_units\n",
        "plt.quiver(VP[0], VP[1], angles='xy', scale_units='xy', scale=1)\n",
        "plt.scatter(VP[0],VP[1],c='m')\n",
        "plt.text(VP[0],VP[1],'Vp',color='r')\n",
        "#Vector correspondiente\n",
        "R=np.add(VP,Q)\n",
        "S=np.add(VP,P)\n",
        "plt.scatter(R[0],R[1])\n",
        "plt.scatter(S[0],S[1])\n",
        "plt.text(R[0],R[1],'R')\n",
        "plt.text(S[0],S[1],'S')\n",
        "plt.quiver(S[0],S[1],R[0], R[1], angles='xy', scale_units='xy', scale=1)\n",
        "\n",
        "#Definición de gráfico (UI)\n",
        "plt.title('Grafica punto 4.')\n",
        "plt.grid(True)\n",
        "plt.axvline(0,0,color='black')\n",
        "plt.axhline(0,0,color='black')\n",
        "plt.xlim(-5,15)\n",
        "plt.ylim(-30,6)\n",
        "plt.xlabel('Eje X')\n",
        "plt.ylabel('Eje Y')\n",
        "plt.show()\n"
      ],
      "execution_count": 76,
      "outputs": [
        {
          "output_type": "display_data",
          "data": {
            "image/png": "[encoded data removed]",
            "text/plain": [
              "<Figure size 432x288 with 1 Axes>"
            ]
          },
          "metadata": {
            "tags": []
          }
        }
      ]
    },
    {
      "cell_type": "markdown",
      "metadata": {
        "id": "jVW_rnVvW89T",
        "colab_type": "text"
      },
      "source": [
        "> 5. En un espacio coordenado de tres dimensiones $(x, y, z)$, calcule la distancia entre $P (3, 5, 7)$ y $Q(-2,3,5)$. Grafique el vector y los dos puntos."
      ]
    },
    {
      "cell_type": "code",
      "metadata": {
        "id": "4eTlI5xpbG2R",
        "colab_type": "code",
        "colab": {
          "base_uri": "https://localhost:8080/",
          "height": 283
        },
        "outputId": "bf5e87a5-3443-4ae9-c1db-fcfa52c21581"
      },
      "source": [
        "#Declarar vectores\n",
        "P5=[3,5,7]\n",
        "Q5=[-2,3,5]\n",
        "#Calculando la distancia entre los puntos\n",
        "RP=np.subtract(P5,Q5)\n",
        "dist=np.sqrt(pow(RP[0],2)+pow(RP[1],2)+pow(RP[2],2))\n",
        "#Graficando los puntos\n",
        "plt.scatter(RP[0],RP[1],RP[2])\n",
        "#Definicion de gráfica\n",
        "plt.xlabel('Eje X')\n",
        "plt.ylabel('Eje Y')\n",
        "plt.grid(True)\n",
        "plt.show()\n"
      ],
      "execution_count": 82,
      "outputs": [
        {
          "output_type": "display_data",
          "data": {
            "image/png": "[encoded data removed]",
            "text/plain": [
              "<Figure size 432x288 with 1 Axes>"
            ]
          },
          "metadata": {
            "tags": []
          }
        }
      ]
    },
    {
      "cell_type": "markdown",
      "metadata": {
        "id": "Sh5kfPpVdNId",
        "colab_type": "text"
      },
      "source": [
        ">6. Sean  $a = <2,2,1>$ y $b = <2,1,4>$ las componentes de un par de vectores. Encuentre $2a + 2b$ , $3a-3b$ y $||a||$."
      ]
    },
    {
      "cell_type": "code",
      "metadata": {
        "id": "Zji8_BxwfZhk",
        "colab_type": "code",
        "colab": {
          "base_uri": "https://localhost:8080/",
          "height": 68
        },
        "outputId": "6cb0751e-d01b-4db6-d7ad-c9c012d9da3a"
      },
      "source": [
        "#Declarando las componentes\n",
        "a=np.array([2,2,1])\n",
        "b=np.array([2,1,4])\n",
        "#Encontrar 2a + 2b\n",
        "comba1=np.multiply(a,2)\n",
        "combb1=np.multiply(b,2)\n",
        "r1=np.add(comba1,combb1)\n",
        "print('2a+2b=',r1[0],'i',r1[1],'j',r1[2],'k')\n",
        "#Encontrar 3a-3b\n",
        "comba2=np.multiply(a,3)\n",
        "combb2=np.multiply(b,3)\n",
        "r2=np.subtract(comba1,combb1)\n",
        "print('3a-3b=',r2[0],'i',r2[1],'j',r2[2],'k')\n",
        "#Encontrar ||a||\n",
        "print('||a|| = ',np.sqrt(pow(a[0],2)+pow(a[1],2)+pow(a[2],2)))"
      ],
      "execution_count": 90,
      "outputs": [
        {
          "output_type": "stream",
          "text": [
            "('2a+2b=', 8, 'i', 6, 'j', 10, 'k')\n",
            "('3a-3b=', 0, 'i', 2, 'j', -6, 'k')\n",
            "('||a|| = ', 3.0)\n"
          ],
          "name": "stdout"
        }
      ]
    },
    {
      "cell_type": "markdown",
      "metadata": {
        "id": "udnyxMxHjfVV",
        "colab_type": "text"
      },
      "source": [
        ">7. Defina una función que le permita calcular el producto escalar del segmento dirigido $a = <5,4,-3>$ y $b = <3,-3,1>$ y el ángulo entre los dos dos vectores. La función debe devolver los dos valores. Imprimalos por pantalla y grafique los vectores."
      ]
    },
    {
      "cell_type": "code",
      "metadata": {
        "id": "TjGRp-GYjewW",
        "colab_type": "code",
        "colab": {
          "base_uri": "https://localhost:8080/",
          "height": 51
        },
        "outputId": "a80ddc6c-5f71-409f-c9e3-db58f18d96f3"
      },
      "source": [
        "import math\n",
        "\n",
        "#Funcion que permite calcular el producto escalar de dos vectores definidos previamente y el ángulo entre ellos\n",
        "#Recibe: 2 vectores a y b\n",
        "#devuelve: el ángulo entre los 2 vectores y un escalar calculado dentro de la función\n",
        "def prodEsc (a,b):\n",
        "  #producto punto\n",
        "  ab=np.multiply(a,b)\n",
        "  rab=ab[0]+ab[1]+ab[2]\n",
        "  #Sacando la magnitud de los dos vectores\n",
        "  normala=np.sqrt(pow(a[0],2)+pow(a[1],2)+pow(a[2],2))\n",
        "  normalb=np.sqrt(pow(b[0],2)+pow(b[1],2)+pow(b[2],2))\n",
        "  #se saca el ángulo\n",
        "  angulo=math.degrees(np.arccos(rab/(normala*normalb)))\n",
        "  #Regresa los valores\n",
        "  return angulo, rab\n",
        "\n",
        "#Se definen los vectores a y b\n",
        "a7=np.array([5,4,-3])\n",
        "b7=np.array([3,-3,1])\n",
        "\n",
        "#Llamamos a la función que calcula el producto escalar\n",
        "anguloG, prodesc=prodEsc(a7,b7)\n",
        "print('El producto escalar es: ',prodesc)\n",
        "print('El angulo en grados es:',anguloG)\n",
        "#graficando los vectores\n"
      ],
      "execution_count": 109,
      "outputs": [
        {
          "output_type": "stream",
          "text": [
            "('El producto escalar es: ', 0)\n",
            "('El angulo en grados es:', 90.0)\n"
          ],
          "name": "stdout"
        }
      ]
    },
    {
      "cell_type": "markdown",
      "metadata": {
        "id": "iXxkhK3lkAQ2",
        "colab_type": "text"
      },
      "source": [
        ">8. Construya una función que calcule el el producto vectorial entre los vectores $u = <2,-1, 6>$ y $v = <-3,5,1>$. Expreselos en términos de $i, j, k$. Grafique los vectores."
      ]
    },
    {
      "cell_type": "code",
      "metadata": {
        "id": "n3k9lEWZkPKj",
        "colab_type": "code",
        "colab": {
          "base_uri": "https://localhost:8080/",
          "height": 34
        },
        "outputId": "d7f994ff-6267-4818-9bf0-87b5678f2032"
      },
      "source": [
        "#Función que calcula el producto vectorial\n",
        "#Recibe:2 vectores u y v\n",
        "#Devuelve: nada\n",
        "def prodVec(u,v):\n",
        "  #Producto cruz de los 2 vectores\n",
        "  cruz=np.cross(u,v)\n",
        "  print(cruz[0],'i',cruz[1],'j',cruz[2],'k')\n",
        "\n",
        "\n",
        "#Se definen los vectores\n",
        "u=np.array([2,-1,6])\n",
        "v=np.array([-3,5,1])\n",
        "\n",
        "#Se hace la llamada a función\n",
        "prodVec(u,v)\n",
        "#Se grafica"
      ],
      "execution_count": 118,
      "outputs": [
        {
          "output_type": "stream",
          "text": [
            "(-31, 'i', -20, 'j', 7, 'k')\n"
          ],
          "name": "stdout"
        }
      ]
    },
    {
      "cell_type": "markdown",
      "metadata": {
        "id": "K56u6NPSkPeu",
        "colab_type": "text"
      },
      "source": [
        ">9. Encuentre las ecuaciones paramétricas para la recta $r$ que pasa por $P(2, -2,3)$ y es paralea a $v = <1 ,2,-3>$.\n",
        "\n",
        ">>1.   Grafique el punto $P$ y la recta $r$.\n",
        ">>2.   Grafique el punto en el cual la recta $r$ corta el plano $xy$.\n",
        ">>3.   Grafique el vector posición $v$.\n"
      ]
    },
    {
      "cell_type": "code",
      "metadata": {
        "id": "8dZtEDQnk3qK",
        "colab_type": "code",
        "colab": {}
      },
      "source": [
        "#Encontrar las ecuaciones peramétricas de la recta\n",
        "#Se definen el punto y el vector\n",
        "P9=np.array([2,-2,3])\n",
        "v9=np.array([1,2,-3])\n",
        "\n",
        "x9=P9[0]+v9[0]*'t'\n",
        "y9=P9[1]+v9[1]*'t'\n",
        "z9=P9[2]+v9[2]*'t'\n",
        "\n",
        "print(x9,y9,z9)"
      ],
      "execution_count": 0,
      "outputs": []
    },
    {
      "cell_type": "markdown",
      "metadata": {
        "id": "Yqs2HWLmk58G",
        "colab_type": "text"
      },
      "source": [
        ">10. Dado el punto $P_1(2,2,-2)$ y $P_2(-2,5,9)$ que se encuentran en la recta $l$, encuentre las ecuaciones paramétricas de la recta. Grafique la recta y los puntos $P_1$ y $P_2$."
      ]
    },
    {
      "cell_type": "code",
      "metadata": {
        "id": "qU5QgW67le6Q",
        "colab_type": "code",
        "colab": {}
      },
      "source": [
        ""
      ],
      "execution_count": 0,
      "outputs": []
    }
  ]
}